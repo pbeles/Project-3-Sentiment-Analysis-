{
  "nbformat": 4,
  "nbformat_minor": 0,
  "metadata": {
    "colab": {
      "provenance": [],
      "machine_shape": "hm",
      "gpuType": "A100",
      "authorship_tag": "ABX9TyObWlZ/CzctS54yt15XaO42",
      "include_colab_link": true
    },
    "kernelspec": {
      "name": "python3",
      "display_name": "Python 3"
    },
    "language_info": {
      "name": "python"
    },
    "accelerator": "GPU"
  },
  "cells": [
    {
      "cell_type": "markdown",
      "metadata": {
        "id": "view-in-github",
        "colab_type": "text"
      },
      "source": [
        "<a href=\"https://colab.research.google.com/github/pbeles/Project-3-Sentiment-Analysis-/blob/main/sentiment_analysis.ipynb\" target=\"_parent\"><img src=\"https://colab.research.google.com/assets/colab-badge.svg\" alt=\"Open In Colab\"/></a>"
      ]
    },
    {
      "cell_type": "code",
      "execution_count": null,
      "metadata": {
        "colab": {
          "base_uri": "https://localhost:8080/"
        },
        "id": "w4r6htoCTZZ2",
        "outputId": "d3b318b0-4284-4319-e9ef-473bb2aedb21"
      },
      "outputs": [
        {
          "output_type": "stream",
          "name": "stdout",
          "text": [
            "Requirement already satisfied: transformers in /usr/local/lib/python3.10/dist-packages (4.47.0)\n",
            "Requirement already satisfied: torch in /usr/local/lib/python3.10/dist-packages (2.5.1+cu121)\n",
            "Requirement already satisfied: seaborn in /usr/local/lib/python3.10/dist-packages (0.13.2)\n",
            "Requirement already satisfied: matplotlib in /usr/local/lib/python3.10/dist-packages (3.9.3)\n",
            "Requirement already satisfied: scikit-learn in /usr/local/lib/python3.10/dist-packages (1.6.0)\n",
            "Requirement already satisfied: imbalanced-learn in /usr/local/lib/python3.10/dist-packages (0.12.4)\n",
            "Requirement already satisfied: nltk in /usr/local/lib/python3.10/dist-packages (3.9.1)\n",
            "Requirement already satisfied: emoji in /usr/local/lib/python3.10/dist-packages (2.14.0)\n",
            "Requirement already satisfied: langdetect in /usr/local/lib/python3.10/dist-packages (1.0.9)\n",
            "Requirement already satisfied: swifter in /usr/local/lib/python3.10/dist-packages (1.4.0)\n",
            "Requirement already satisfied: vaderSentiment in /usr/local/lib/python3.10/dist-packages (3.3.2)\n",
            "Requirement already satisfied: kaggle in /usr/local/lib/python3.10/dist-packages (1.6.17)\n",
            "Requirement already satisfied: sentencepiece in /usr/local/lib/python3.10/dist-packages (0.2.0)\n",
            "Requirement already satisfied: textblob in /usr/local/lib/python3.10/dist-packages (0.18.0.post0)\n",
            "Requirement already satisfied: filelock in /usr/local/lib/python3.10/dist-packages (from transformers) (3.16.1)\n",
            "Requirement already satisfied: huggingface-hub<1.0,>=0.24.0 in /usr/local/lib/python3.10/dist-packages (from transformers) (0.26.3)\n",
            "Requirement already satisfied: numpy>=1.17 in /usr/local/lib/python3.10/dist-packages (from transformers) (1.26.4)\n",
            "Requirement already satisfied: packaging>=20.0 in /usr/local/lib/python3.10/dist-packages (from transformers) (24.2)\n",
            "Requirement already satisfied: pyyaml>=5.1 in /usr/local/lib/python3.10/dist-packages (from transformers) (6.0.2)\n",
            "Requirement already satisfied: regex!=2019.12.17 in /usr/local/lib/python3.10/dist-packages (from transformers) (2024.9.11)\n",
            "Requirement already satisfied: requests in /usr/local/lib/python3.10/dist-packages (from transformers) (2.32.3)\n",
            "Requirement already satisfied: tokenizers<0.22,>=0.21 in /usr/local/lib/python3.10/dist-packages (from transformers) (0.21.0)\n",
            "Requirement already satisfied: safetensors>=0.4.1 in /usr/local/lib/python3.10/dist-packages (from transformers) (0.4.5)\n",
            "Requirement already satisfied: tqdm>=4.27 in /usr/local/lib/python3.10/dist-packages (from transformers) (4.66.6)\n",
            "Requirement already satisfied: typing-extensions>=4.8.0 in /usr/local/lib/python3.10/dist-packages (from torch) (4.12.2)\n",
            "Requirement already satisfied: networkx in /usr/local/lib/python3.10/dist-packages (from torch) (3.4.2)\n",
            "Requirement already satisfied: jinja2 in /usr/local/lib/python3.10/dist-packages (from torch) (3.1.4)\n",
            "Requirement already satisfied: fsspec in /usr/local/lib/python3.10/dist-packages (from torch) (2024.10.0)\n",
            "Requirement already satisfied: sympy==1.13.1 in /usr/local/lib/python3.10/dist-packages (from torch) (1.13.1)\n",
            "Requirement already satisfied: mpmath<1.4,>=1.1.0 in /usr/local/lib/python3.10/dist-packages (from sympy==1.13.1->torch) (1.3.0)\n",
            "Requirement already satisfied: pandas>=1.2 in /usr/local/lib/python3.10/dist-packages (from seaborn) (2.2.2)\n",
            "Requirement already satisfied: contourpy>=1.0.1 in /usr/local/lib/python3.10/dist-packages (from matplotlib) (1.3.1)\n",
            "Requirement already satisfied: cycler>=0.10 in /usr/local/lib/python3.10/dist-packages (from matplotlib) (0.12.1)\n",
            "Requirement already satisfied: fonttools>=4.22.0 in /usr/local/lib/python3.10/dist-packages (from matplotlib) (4.55.1)\n",
            "Requirement already satisfied: kiwisolver>=1.3.1 in /usr/local/lib/python3.10/dist-packages (from matplotlib) (1.4.7)\n",
            "Requirement already satisfied: pillow>=8 in /usr/local/lib/python3.10/dist-packages (from matplotlib) (11.0.0)\n",
            "Requirement already satisfied: pyparsing>=2.3.1 in /usr/local/lib/python3.10/dist-packages (from matplotlib) (3.2.0)\n",
            "Requirement already satisfied: python-dateutil>=2.7 in /usr/local/lib/python3.10/dist-packages (from matplotlib) (2.8.2)\n",
            "Requirement already satisfied: scipy>=1.6.0 in /usr/local/lib/python3.10/dist-packages (from scikit-learn) (1.13.1)\n",
            "Requirement already satisfied: joblib>=1.2.0 in /usr/local/lib/python3.10/dist-packages (from scikit-learn) (1.4.2)\n",
            "Requirement already satisfied: threadpoolctl>=3.1.0 in /usr/local/lib/python3.10/dist-packages (from scikit-learn) (3.5.0)\n",
            "Requirement already satisfied: click in /usr/local/lib/python3.10/dist-packages (from nltk) (8.1.7)\n",
            "Requirement already satisfied: six in /usr/local/lib/python3.10/dist-packages (from langdetect) (1.16.0)\n",
            "Requirement already satisfied: psutil>=5.6.6 in /usr/local/lib/python3.10/dist-packages (from swifter) (5.9.5)\n",
            "Requirement already satisfied: dask>=2.10.0 in /usr/local/lib/python3.10/dist-packages (from dask[dataframe]>=2.10.0->swifter) (2024.10.0)\n",
            "Requirement already satisfied: certifi>=2023.7.22 in /usr/local/lib/python3.10/dist-packages (from kaggle) (2024.8.30)\n",
            "Requirement already satisfied: python-slugify in /usr/local/lib/python3.10/dist-packages (from kaggle) (8.0.4)\n",
            "Requirement already satisfied: urllib3 in /usr/local/lib/python3.10/dist-packages (from kaggle) (2.2.3)\n",
            "Requirement already satisfied: bleach in /usr/local/lib/python3.10/dist-packages (from kaggle) (6.2.0)\n",
            "Requirement already satisfied: cloudpickle>=3.0.0 in /usr/local/lib/python3.10/dist-packages (from dask>=2.10.0->dask[dataframe]>=2.10.0->swifter) (3.1.0)\n",
            "Requirement already satisfied: partd>=1.4.0 in /usr/local/lib/python3.10/dist-packages (from dask>=2.10.0->dask[dataframe]>=2.10.0->swifter) (1.4.2)\n",
            "Requirement already satisfied: toolz>=0.10.0 in /usr/local/lib/python3.10/dist-packages (from dask>=2.10.0->dask[dataframe]>=2.10.0->swifter) (0.12.1)\n",
            "Requirement already satisfied: importlib-metadata>=4.13.0 in /usr/local/lib/python3.10/dist-packages (from dask>=2.10.0->dask[dataframe]>=2.10.0->swifter) (8.5.0)\n",
            "Requirement already satisfied: dask-expr<1.2,>=1.1 in /usr/local/lib/python3.10/dist-packages (from dask[dataframe]>=2.10.0->swifter) (1.1.16)\n",
            "Requirement already satisfied: pytz>=2020.1 in /usr/local/lib/python3.10/dist-packages (from pandas>=1.2->seaborn) (2024.2)\n",
            "Requirement already satisfied: tzdata>=2022.7 in /usr/local/lib/python3.10/dist-packages (from pandas>=1.2->seaborn) (2024.2)\n",
            "Requirement already satisfied: webencodings in /usr/local/lib/python3.10/dist-packages (from bleach->kaggle) (0.5.1)\n",
            "Requirement already satisfied: MarkupSafe>=2.0 in /usr/local/lib/python3.10/dist-packages (from jinja2->torch) (3.0.2)\n",
            "Requirement already satisfied: text-unidecode>=1.3 in /usr/local/lib/python3.10/dist-packages (from python-slugify->kaggle) (1.3)\n",
            "Requirement already satisfied: charset-normalizer<4,>=2 in /usr/local/lib/python3.10/dist-packages (from requests->transformers) (3.4.0)\n",
            "Requirement already satisfied: idna<4,>=2.5 in /usr/local/lib/python3.10/dist-packages (from requests->transformers) (3.10)\n",
            "Requirement already satisfied: pyarrow>=14.0.1 in /usr/local/lib/python3.10/dist-packages (from dask-expr<1.2,>=1.1->dask[dataframe]>=2.10.0->swifter) (17.0.0)\n",
            "Requirement already satisfied: zipp>=3.20 in /usr/local/lib/python3.10/dist-packages (from importlib-metadata>=4.13.0->dask>=2.10.0->dask[dataframe]>=2.10.0->swifter) (3.21.0)\n",
            "Requirement already satisfied: locket in /usr/local/lib/python3.10/dist-packages (from partd>=1.4.0->dask>=2.10.0->dask[dataframe]>=2.10.0->swifter) (1.0.0)\n",
            "Requirement already satisfied: pandas in /usr/local/lib/python3.10/dist-packages (2.2.2)\n",
            "Requirement already satisfied: numpy>=1.22.4 in /usr/local/lib/python3.10/dist-packages (from pandas) (1.26.4)\n",
            "Requirement already satisfied: python-dateutil>=2.8.2 in /usr/local/lib/python3.10/dist-packages (from pandas) (2.8.2)\n",
            "Requirement already satisfied: pytz>=2020.1 in /usr/local/lib/python3.10/dist-packages (from pandas) (2024.2)\n",
            "Requirement already satisfied: tzdata>=2022.7 in /usr/local/lib/python3.10/dist-packages (from pandas) (2024.2)\n",
            "Requirement already satisfied: six>=1.5 in /usr/local/lib/python3.10/dist-packages (from python-dateutil>=2.8.2->pandas) (1.16.0)\n",
            "Requirement already satisfied: umap-learn in /usr/local/lib/python3.10/dist-packages (0.5.7)\n",
            "Requirement already satisfied: numpy>=1.17 in /usr/local/lib/python3.10/dist-packages (from umap-learn) (1.26.4)\n",
            "Requirement already satisfied: scipy>=1.3.1 in /usr/local/lib/python3.10/dist-packages (from umap-learn) (1.13.1)\n",
            "Requirement already satisfied: scikit-learn>=0.22 in /usr/local/lib/python3.10/dist-packages (from umap-learn) (1.6.0)\n",
            "Requirement already satisfied: numba>=0.51.2 in /usr/local/lib/python3.10/dist-packages (from umap-learn) (0.60.0)\n",
            "Requirement already satisfied: pynndescent>=0.5 in /usr/local/lib/python3.10/dist-packages (from umap-learn) (0.5.13)\n",
            "Requirement already satisfied: tqdm in /usr/local/lib/python3.10/dist-packages (from umap-learn) (4.66.6)\n",
            "Requirement already satisfied: llvmlite<0.44,>=0.43.0dev0 in /usr/local/lib/python3.10/dist-packages (from numba>=0.51.2->umap-learn) (0.43.0)\n",
            "Requirement already satisfied: joblib>=0.11 in /usr/local/lib/python3.10/dist-packages (from pynndescent>=0.5->umap-learn) (1.4.2)\n",
            "Requirement already satisfied: threadpoolctl>=3.1.0 in /usr/local/lib/python3.10/dist-packages (from scikit-learn>=0.22->umap-learn) (3.5.0)\n",
            "Requirement already satisfied: keybert in /usr/local/lib/python3.10/dist-packages (0.8.5)\n",
            "Requirement already satisfied: numpy>=1.18.5 in /usr/local/lib/python3.10/dist-packages (from keybert) (1.26.4)\n",
            "Requirement already satisfied: rich>=10.4.0 in /usr/local/lib/python3.10/dist-packages (from keybert) (13.9.4)\n",
            "Requirement already satisfied: scikit-learn>=0.22.2 in /usr/local/lib/python3.10/dist-packages (from keybert) (1.6.0)\n",
            "Requirement already satisfied: sentence-transformers>=0.3.8 in /usr/local/lib/python3.10/dist-packages (from keybert) (3.2.1)\n",
            "Requirement already satisfied: markdown-it-py>=2.2.0 in /usr/local/lib/python3.10/dist-packages (from rich>=10.4.0->keybert) (3.0.0)\n",
            "Requirement already satisfied: pygments<3.0.0,>=2.13.0 in /usr/local/lib/python3.10/dist-packages (from rich>=10.4.0->keybert) (2.18.0)\n",
            "Requirement already satisfied: typing-extensions<5.0,>=4.0.0 in /usr/local/lib/python3.10/dist-packages (from rich>=10.4.0->keybert) (4.12.2)\n",
            "Requirement already satisfied: scipy>=1.6.0 in /usr/local/lib/python3.10/dist-packages (from scikit-learn>=0.22.2->keybert) (1.13.1)\n",
            "Requirement already satisfied: joblib>=1.2.0 in /usr/local/lib/python3.10/dist-packages (from scikit-learn>=0.22.2->keybert) (1.4.2)\n",
            "Requirement already satisfied: threadpoolctl>=3.1.0 in /usr/local/lib/python3.10/dist-packages (from scikit-learn>=0.22.2->keybert) (3.5.0)\n",
            "Requirement already satisfied: transformers<5.0.0,>=4.41.0 in /usr/local/lib/python3.10/dist-packages (from sentence-transformers>=0.3.8->keybert) (4.47.0)\n",
            "Requirement already satisfied: tqdm in /usr/local/lib/python3.10/dist-packages (from sentence-transformers>=0.3.8->keybert) (4.66.6)\n",
            "Requirement already satisfied: torch>=1.11.0 in /usr/local/lib/python3.10/dist-packages (from sentence-transformers>=0.3.8->keybert) (2.5.1+cu121)\n",
            "Requirement already satisfied: huggingface-hub>=0.20.0 in /usr/local/lib/python3.10/dist-packages (from sentence-transformers>=0.3.8->keybert) (0.26.3)\n",
            "Requirement already satisfied: Pillow in /usr/local/lib/python3.10/dist-packages (from sentence-transformers>=0.3.8->keybert) (11.0.0)\n",
            "Requirement already satisfied: filelock in /usr/local/lib/python3.10/dist-packages (from huggingface-hub>=0.20.0->sentence-transformers>=0.3.8->keybert) (3.16.1)\n",
            "Requirement already satisfied: fsspec>=2023.5.0 in /usr/local/lib/python3.10/dist-packages (from huggingface-hub>=0.20.0->sentence-transformers>=0.3.8->keybert) (2024.10.0)\n",
            "Requirement already satisfied: packaging>=20.9 in /usr/local/lib/python3.10/dist-packages (from huggingface-hub>=0.20.0->sentence-transformers>=0.3.8->keybert) (24.2)\n",
            "Requirement already satisfied: pyyaml>=5.1 in /usr/local/lib/python3.10/dist-packages (from huggingface-hub>=0.20.0->sentence-transformers>=0.3.8->keybert) (6.0.2)\n",
            "Requirement already satisfied: requests in /usr/local/lib/python3.10/dist-packages (from huggingface-hub>=0.20.0->sentence-transformers>=0.3.8->keybert) (2.32.3)\n",
            "Requirement already satisfied: mdurl~=0.1 in /usr/local/lib/python3.10/dist-packages (from markdown-it-py>=2.2.0->rich>=10.4.0->keybert) (0.1.2)\n",
            "Requirement already satisfied: networkx in /usr/local/lib/python3.10/dist-packages (from torch>=1.11.0->sentence-transformers>=0.3.8->keybert) (3.4.2)\n",
            "Requirement already satisfied: jinja2 in /usr/local/lib/python3.10/dist-packages (from torch>=1.11.0->sentence-transformers>=0.3.8->keybert) (3.1.4)\n",
            "Requirement already satisfied: sympy==1.13.1 in /usr/local/lib/python3.10/dist-packages (from torch>=1.11.0->sentence-transformers>=0.3.8->keybert) (1.13.1)\n",
            "Requirement already satisfied: mpmath<1.4,>=1.1.0 in /usr/local/lib/python3.10/dist-packages (from sympy==1.13.1->torch>=1.11.0->sentence-transformers>=0.3.8->keybert) (1.3.0)\n",
            "Requirement already satisfied: regex!=2019.12.17 in /usr/local/lib/python3.10/dist-packages (from transformers<5.0.0,>=4.41.0->sentence-transformers>=0.3.8->keybert) (2024.9.11)\n",
            "Requirement already satisfied: tokenizers<0.22,>=0.21 in /usr/local/lib/python3.10/dist-packages (from transformers<5.0.0,>=4.41.0->sentence-transformers>=0.3.8->keybert) (0.21.0)\n",
            "Requirement already satisfied: safetensors>=0.4.1 in /usr/local/lib/python3.10/dist-packages (from transformers<5.0.0,>=4.41.0->sentence-transformers>=0.3.8->keybert) (0.4.5)\n",
            "Requirement already satisfied: MarkupSafe>=2.0 in /usr/local/lib/python3.10/dist-packages (from jinja2->torch>=1.11.0->sentence-transformers>=0.3.8->keybert) (3.0.2)\n",
            "Requirement already satisfied: charset-normalizer<4,>=2 in /usr/local/lib/python3.10/dist-packages (from requests->huggingface-hub>=0.20.0->sentence-transformers>=0.3.8->keybert) (3.4.0)\n",
            "Requirement already satisfied: idna<4,>=2.5 in /usr/local/lib/python3.10/dist-packages (from requests->huggingface-hub>=0.20.0->sentence-transformers>=0.3.8->keybert) (3.10)\n",
            "Requirement already satisfied: urllib3<3,>=1.21.1 in /usr/local/lib/python3.10/dist-packages (from requests->huggingface-hub>=0.20.0->sentence-transformers>=0.3.8->keybert) (2.2.3)\n",
            "Requirement already satisfied: certifi>=2017.4.17 in /usr/local/lib/python3.10/dist-packages (from requests->huggingface-hub>=0.20.0->sentence-transformers>=0.3.8->keybert) (2024.8.30)\n"
          ]
        }
      ],
      "source": [
        "# ========================================\n",
        "# Environment Setup\n",
        "# ========================================\n",
        "!pip install --upgrade transformers torch seaborn matplotlib scikit-learn imbalanced-learn nltk emoji langdetect swifter vaderSentiment kaggle sentencepiece textblob\n",
        "!pip install pandas\n",
        "!pip install umap-learn\n",
        "!pip install keybert\n",
        "!pip install hdbscan --quiet\n",
        "!pip install sentence-transformers --quiet"
      ]
    },
    {
      "cell_type": "code",
      "source": [
        "# ========================================\n",
        "# Setup and Environment Configuration\n",
        "# ========================================\n",
        "import pandas as pd\n",
        "import numpy as np\n",
        "import re\n",
        "from sklearn.model_selection import train_test_split\n",
        "from sklearn.metrics import classification_report, confusion_matrix, f1_score, recall_score, precision_score\n",
        "from sklearn.feature_extraction.text import TfidfVectorizer\n",
        "from sklearn.decomposition import LatentDirichletAllocation\n",
        "from sklearn.utils import resample\n",
        "from collections import Counter\n",
        "import matplotlib.pyplot as plt\n",
        "import seaborn as sns\n",
        "from nltk.corpus import stopwords\n",
        "from nltk.tokenize import word_tokenize\n",
        "import nltk\n",
        "import random\n",
        "from transformers import (\n",
        "    XLMRobertaTokenizer, XLMRobertaForSequenceClassification,\n",
        "    AutoTokenizer, AutoModelForSequenceClassification,\n",
        "    Trainer, TrainingArguments\n",
        ")\n",
        "import torch\n",
        "\n",
        "# Ensure necessary NLTK data is downloaded\n",
        "nltk.download('stopwords')\n",
        "nltk.download('punkt')\n",
        "\n",
        "# Load the aggregated dataset\n",
        "uploaded_data_path = \"./aggregated_dataset.csv\"  # I wrote it in order to ensure accessibility\n",
        "try:\n",
        "    df = pd.read_csv(uploaded_data_path)\n",
        "except FileNotFoundError:\n",
        "    raise FileNotFoundError(f\"Dataset file not found at {uploaded_data_path}. Please ensure the file is placed correctly in the working directory.\")\n",
        "\n",
        "# Verify the structure of the dataset\n",
        "print(\"Columns in the DataFrame:\")\n",
        "print(df.columns.tolist())\n",
        "print(\"\\nSample rows:\")\n",
        "print(df.head())\n",
        "\n",
        "# ========================================\n",
        "# Data Cleaning and Preprocessing\n",
        "# ========================================\n",
        "required_columns = ['review', 'rating']\n",
        "for column in required_columns:\n",
        "    if column not in df.columns:\n",
        "        raise ValueError(f\"The dataset must contain a '{column}' column.\")\n",
        "\n",
        "df = df.dropna(subset=['review', 'rating']).reset_index(drop=True)\n",
        "\n",
        "def clean_text(text):\n",
        "    text = re.sub(r'<.*?>', '', text)\n",
        "    text = re.sub(r'http\\S+', '', text)\n",
        "    text = re.sub(r'[^a-zA-Z\\s]', '', text)\n",
        "    text = text.lower().strip()\n",
        "    return text\n",
        "\n",
        "df['cleaned_review'] = df['review'].apply(clean_text)\n",
        "\n",
        "def rating_to_sentiment(r):\n",
        "    if r < 3:\n",
        "        return 0\n",
        "    elif r == 3:\n",
        "        return 1\n",
        "    else:\n",
        "        return 2\n",
        "\n",
        "df['sentiment_label'] = df['rating'].apply(rating_to_sentiment)\n",
        "\n",
        "# ========================================\n",
        "# Data Balancing\n",
        "# ========================================\n",
        "class_counts = df['sentiment_label'].value_counts()\n",
        "print(\"Class distribution before balancing:\")\n",
        "print(class_counts)\n",
        "\n",
        "# Oversample minority classes to balance the dataset\n",
        "df_majority = df[df['sentiment_label'] == class_counts.idxmax()]\n",
        "df_minority = df[df['sentiment_label'] != class_counts.idxmax()]\n",
        "\n",
        "balanced_dfs = [df_majority]\n",
        "for label in df_minority['sentiment_label'].unique():\n",
        "    minority_df = df_minority[df_minority['sentiment_label'] == label]\n",
        "    oversampled_minority = resample(\n",
        "        minority_df,\n",
        "        replace=True,\n",
        "        n_samples=len(df_majority),\n",
        "        random_state=42\n",
        "    )\n",
        "    balanced_dfs.append(oversampled_minority)\n",
        "\n",
        "df_balanced = pd.concat(balanced_dfs).sample(frac=1, random_state=42).reset_index(drop=True)\n",
        "print(\"Class distribution after balancing:\")\n",
        "print(df_balanced['sentiment_label'].value_counts())\n",
        "\n",
        "# Plot class distributions\n",
        "plt.figure(figsize=(10, 5))\n",
        "plt.bar(class_counts.index, class_counts.values, alpha=0.7, label=\"Before Balancing\")\n",
        "plt.bar(df_balanced['sentiment_label'].value_counts().index, df_balanced['sentiment_label'].value_counts().values, alpha=0.7, label=\"After Balancing\")\n",
        "plt.xticks([0, 1, 2], ['Negative', 'Neutral', 'Positive'])\n",
        "plt.xlabel(\"Sentiment Classes\")\n",
        "plt.ylabel(\"Frequency\")\n",
        "plt.title(\"Class Distribution Before and After Balancing\")\n",
        "plt.legend()\n",
        "plt.show()\n",
        "\n",
        "#########################\n",
        "# Save the cleaned and balanced dataset for future use\n",
        "df_balanced.to_csv(\"./cleaned_balanced_dataset.csv\", index=False)\n",
        "\n",
        "# ========================================\n",
        "# Model Ensemble: XLM-RoBERTa and mBERT\n",
        "# ========================================\n",
        "xlm_tokenizer = XLMRobertaTokenizer.from_pretrained(\"xlm-roberta-base\")\n",
        "xlm_model = XLMRobertaForSequenceClassification.from_pretrained(\"xlm-roberta-base\", num_labels=3)\n",
        "\n",
        "mbert_tokenizer = AutoTokenizer.from_pretrained(\"bert-base-multilingual-cased\")\n",
        "mbert_model = AutoModelForSequenceClassification.from_pretrained(\"bert-base-multilingual-cased\", num_labels=3)\n",
        "\n",
        "# Tokenize dataset\n",
        "train_texts, val_texts, train_labels, val_labels = train_test_split(\n",
        "    df_balanced['cleaned_review'],\n",
        "    df_balanced['sentiment_label'],\n",
        "    test_size=0.2,\n",
        "    random_state=42,\n",
        "    stratify=df_balanced['sentiment_label']\n",
        ")\n",
        "\n",
        "xlm_train_encodings = xlm_tokenizer(list(train_texts), truncation=True, padding=True, max_length=128, return_tensors=\"pt\")\n",
        "xlm_val_encodings = xlm_tokenizer(list(val_texts), truncation=True, padding=True, max_length=128, return_tensors=\"pt\")\n",
        "\n",
        "mbert_train_encodings = mbert_tokenizer(list(train_texts), truncation=True, padding=True, max_length=128, return_tensors=\"pt\")\n",
        "mbert_val_encodings = mbert_tokenizer(list(val_texts), truncation=True, padding=True, max_length=128, return_tensors=\"pt\")\n",
        "\n",
        "class SentimentDataset(torch.utils.data.Dataset):\n",
        "    def __init__(self, encodings, labels):\n",
        "        self.encodings = encodings\n",
        "        self.labels = labels\n",
        "\n",
        "    def __getitem__(self, idx):\n",
        "        item = {\n",
        "            \"input_ids\": self.encodings[\"input_ids\"][idx],\n",
        "            \"attention_mask\": self.encodings[\"attention_mask\"][idx],\n",
        "            \"labels\": torch.tensor(self.labels[idx], dtype=torch.long)\n",
        "        }\n",
        "        return item\n",
        "\n",
        "    def __len__(self):\n",
        "        return len(self.labels)\n",
        "\n",
        "xlm_train_dataset = SentimentDataset(xlm_train_encodings, train_labels.tolist())\n",
        "xlm_val_dataset = SentimentDataset(xlm_val_encodings, val_labels.tolist())\n",
        "\n",
        "mbert_train_dataset = SentimentDataset(mbert_train_encodings, train_labels.tolist())\n",
        "mbert_val_dataset = SentimentDataset(mbert_val_encodings, val_labels.tolist())\n",
        "\n",
        "# Training arguments\n",
        "training_args = TrainingArguments(\n",
        "    output_dir=\"./results\",\n",
        "    eval_strategy=\"epoch\",\n",
        "    num_train_epochs=5,\n",
        "    per_device_train_batch_size=16,\n",
        "    per_device_eval_batch_size=64,\n",
        "    learning_rate=2e-5,\n",
        "    weight_decay=0.01,\n",
        "    logging_dir=\"./logs\",\n",
        "    logging_steps=10,\n",
        "    load_best_model_at_end=True,\n",
        "    metric_for_best_model=\"f1\",\n",
        "    save_strategy=\"epoch\"\n",
        ")\n",
        "\n",
        "def compute_metrics(p):\n",
        "    preds = np.argmax(p.predictions, axis=1)\n",
        "    labels = p.label_ids\n",
        "    return {\n",
        "        \"accuracy\": (preds == labels).mean(),\n",
        "        \"precision\": precision_score(labels, preds, average=\"weighted\"),\n",
        "        \"recall\": recall_score(labels, preds, average=\"weighted\"),\n",
        "        \"f1\": f1_score(labels, preds, average=\"weighted\"),\n",
        "    }\n",
        "\n",
        "xlm_trainer = Trainer(\n",
        "    model=xlm_model,\n",
        "    args=training_args,\n",
        "    train_dataset=xlm_train_dataset,\n",
        "    eval_dataset=xlm_val_dataset,\n",
        "    tokenizer=xlm_tokenizer,\n",
        "    compute_metrics=compute_metrics\n",
        ")\n",
        "\n",
        "mbert_trainer = Trainer(\n",
        "    model=mbert_model,\n",
        "    args=training_args,\n",
        "    train_dataset=mbert_train_dataset,\n",
        "    eval_dataset=mbert_val_dataset,\n",
        "    tokenizer=mbert_tokenizer,\n",
        "    compute_metrics=compute_metrics\n",
        ")\n",
        "\n",
        "print(\"Training XLM-RoBERTa...\")\n",
        "xlm_trainer.train()\n",
        "print(\"Training mBERT...\")\n",
        "mbert_trainer.train()\n",
        "\n",
        "# Evaluate individual models\n",
        "print(\"Evaluating XLM-RoBERTa...\")\n",
        "xlm_results = xlm_trainer.evaluate()\n",
        "xlm_preds = np.argmax(xlm_trainer.predict(xlm_val_dataset).predictions, axis=1)\n",
        "xlm_conf_matrix = confusion_matrix(val_labels, xlm_preds)\n",
        "print(\"XLM-RoBERTa Confusion Matrix:\")\n",
        "print(xlm_conf_matrix)\n",
        "\n",
        "print(\"Evaluating mBERT...\")\n",
        "mbert_results = mbert_trainer.evaluate()\n",
        "mbert_preds = np.argmax(mbert_trainer.predict(mbert_val_dataset).predictions, axis=1)\n",
        "mbert_conf_matrix = confusion_matrix(val_labels, mbert_preds)\n",
        "print(\"mBERT Confusion Matrix:\")\n",
        "print(mbert_conf_matrix)\n",
        "\n",
        "# Ensemble predictions\n",
        "print(\"Generating predictions for ensemble...\")\n",
        "ensemble_preds = [Counter([x, y]).most_common(1)[0][0] for x, y in zip(xlm_preds, mbert_preds)]\n",
        "ensemble_conf_matrix = confusion_matrix(val_labels, ensemble_preds)\n",
        "ensemble_f1 = f1_score(val_labels, ensemble_preds, average=\"weighted\")\n",
        "\n",
        "# Plot confusion matrices\n",
        "fig, axs = plt.subplots(1, 3, figsize=(20, 6))\n",
        "sns.heatmap(xlm_conf_matrix, annot=True, fmt='d', cmap='Blues', ax=axs[0])\n",
        "axs[0].set_title(\"XLM-RoBERTa Confusion Matrix\")\n",
        "axs[0].set_xlabel(\"Predicted\")\n",
        "axs[0].set_ylabel(\"True\")\n",
        "\n",
        "sns.heatmap(mbert_conf_matrix, annot=True, fmt='d', cmap='Greens', ax=axs[1])\n",
        "axs[1].set_title(\"mBERT Confusion Matrix\")\n",
        "axs[1].set_xlabel(\"Predicted\")\n",
        "axs[1].set_ylabel(\"True\")\n",
        "\n",
        "sns.heatmap(ensemble_conf_matrix, annot=True, fmt='d', cmap='Purples', ax=axs[2])\n",
        "axs[2].set_title(\"Ensemble Confusion Matrix\")\n",
        "axs[2].set_xlabel(\"Predicted\")\n",
        "axs[2].set_ylabel(\"True\")\n",
        "\n",
        "plt.tight_layout()\n",
        "plt.show()\n",
        "\n",
        "# Performance comparison\n",
        "print(\"XLM-RoBERTa F1 Score:\", xlm_results['eval_f1'])\n",
        "print(\"mBERT F1 Score:\", mbert_results['eval_f1'])\n",
        "print(\"Ensemble F1 Score:\", ensemble_f1)\n",
        "\n",
        "# Save models and tokenizers\n",
        "xlm_model.save_pretrained(\"./xlmr-sentiment\")\n",
        "xlm_tokenizer.save_pretrained(\"./xlmr-sentiment\")\n",
        "mbert_model.save_pretrained(\"./mbert-sentiment\")\n",
        "mbert_tokenizer.save_pretrained(\"./mbert-sentiment\")\n"
      ],
      "metadata": {
        "colab": {
          "base_uri": "https://localhost:8080/",
          "height": 1000
        },
        "id": "zkss5MfGTmSt",
        "outputId": "ef61cd41-5deb-40d9-91fa-20f3162befd8"
      },
      "execution_count": null,
      "outputs": [
        {
          "output_type": "stream",
          "name": "stderr",
          "text": [
            "[nltk_data] Downloading package stopwords to /root/nltk_data...\n",
            "[nltk_data]   Package stopwords is already up-to-date!\n",
            "[nltk_data] Downloading package punkt to /root/nltk_data...\n",
            "[nltk_data]   Package punkt is already up-to-date!\n"
          ]
        },
        {
          "output_type": "stream",
          "name": "stdout",
          "text": [
            "Columns in the DataFrame:\n",
            "['platform', 'software', 'review', 'country', 'title', 'text', 'date', 'score', 'num_comments', 'subreddit', 'developerResponse', 'rating', 'isEdited', 'userName']\n",
            "\n",
            "Sample rows:\n",
            "   platform software                                             review  \\\n",
            "0  Facebook   Taxfix  Unfortunately, I had deposited the wrong finan...   \n",
            "1  Facebook   Taxfix  Sinnloses Gendergestammel! \\nWer mit der deuts...   \n",
            "2  Facebook   Taxfix  Sistem generated emails. I sent 10 Emails and ...   \n",
            "3  Facebook   Taxfix  Scheint wohl bald dicht zu machen. Support ant...   \n",
            "4  Facebook   Taxfix  They locked me out of my account by revoking l...   \n",
            "\n",
            "   country title text date  score  num_comments subreddit developerResponse  \\\n",
            "0  Germany   NaN  NaN  NaN    NaN           NaN       NaN               NaN   \n",
            "1  Germany   NaN  NaN  NaN    NaN           NaN       NaN               NaN   \n",
            "2  Germany   NaN  NaN  NaN    NaN           NaN       NaN               NaN   \n",
            "3  Germany   NaN  NaN  NaN    NaN           NaN       NaN               NaN   \n",
            "4  Germany   NaN  NaN  NaN    NaN           NaN       NaN               NaN   \n",
            "\n",
            "   rating isEdited userName  \n",
            "0     NaN      NaN      NaN  \n",
            "1     NaN      NaN      NaN  \n",
            "2     NaN      NaN      NaN  \n",
            "3     NaN      NaN      NaN  \n",
            "4     NaN      NaN      NaN  \n",
            "Class distribution before balancing:\n",
            "sentiment_label\n",
            "2    1931\n",
            "0    1687\n",
            "1     352\n",
            "Name: count, dtype: int64\n",
            "Class distribution after balancing:\n",
            "sentiment_label\n",
            "2    1931\n",
            "0    1931\n",
            "1    1931\n",
            "Name: count, dtype: int64\n"
          ]
        },
        {
          "output_type": "display_data",
          "data": {
            "text/plain": [
              "<Figure size 1000x500 with 1 Axes>"
            ],
            "image/png": "[encoded data removed]"
          },
          "metadata": {}
        },
        {
          "output_type": "stream",
          "name": "stderr",
          "text": [
            "/usr/local/lib/python3.10/dist-packages/huggingface_hub/utils/_auth.py:94: UserWarning: \n",
            "The secret `HF_TOKEN` does not exist in your Colab secrets.\n",
            "To authenticate with the Hugging Face Hub, create a token in your settings tab (https://huggingface.co/settings/tokens), set it as secret in your Google Colab and restart your session.\n",
            "You will be able to reuse this secret in all of your notebooks.\n",
            "Please note that authentication is recommended but still optional to access public models or datasets.\n",
            "  warnings.warn(\n",
            "Some weights of XLMRobertaForSequenceClassification were not initialized from the model checkpoint at xlm-roberta-base and are newly initialized: ['classifier.dense.bias', 'classifier.dense.weight', 'classifier.out_proj.bias', 'classifier.out_proj.weight']\n",
            "You should probably TRAIN this model on a down-stream task to be able to use it for predictions and inference.\n",
            "Some weights of BertForSequenceClassification were not initialized from the model checkpoint at bert-base-multilingual-cased and are newly initialized: ['classifier.bias', 'classifier.weight']\n",
            "You should probably TRAIN this model on a down-stream task to be able to use it for predictions and inference.\n",
            "<ipython-input-2-102086ba87c6>:185: FutureWarning: `tokenizer` is deprecated and will be removed in version 5.0.0 for `Trainer.__init__`. Use `processing_class` instead.\n",
            "  xlm_trainer = Trainer(\n",
            "<ipython-input-2-102086ba87c6>:194: FutureWarning: `tokenizer` is deprecated and will be removed in version 5.0.0 for `Trainer.__init__`. Use `processing_class` instead.\n",
            "  mbert_trainer = Trainer(\n",
            "\u001b[34m\u001b[1mwandb\u001b[0m: \u001b[33mWARNING\u001b[0m The `run_name` is currently set to the same value as `TrainingArguments.output_dir`. If this was not intended, please specify a different run name by setting the `TrainingArguments.run_name` parameter.\n"
          ]
        },
        {
          "output_type": "stream",
          "name": "stdout",
          "text": [
            "Training XLM-RoBERTa...\n"
          ]
        },
        {
          "output_type": "stream",
          "name": "stderr",
          "text": [
            "\u001b[34m\u001b[1mwandb\u001b[0m: Using wandb-core as the SDK backend.  Please refer to https://wandb.me/wandb-core for more information.\n",
            "\u001b[34m\u001b[1mwandb\u001b[0m: Currently logged in as: \u001b[33mpbeles\u001b[0m (\u001b[33mpbeles-ironhack\u001b[0m). Use \u001b[1m`wandb login --relogin`\u001b[0m to force relogin\n"
          ]
        },
        {
          "output_type": "display_data",
          "data": {
            "text/plain": [
              "<IPython.core.display.HTML object>"
            ],
            "text/html": [
              "Tracking run with wandb version 0.18.7"
            ]
          },
          "metadata": {}
        },
        {
          "output_type": "display_data",
          "data": {
            "text/plain": [
              "<IPython.core.display.HTML object>"
            ],
            "text/html": [
              "Run data is saved locally in <code>/content/wandb/run-20241212_170406-cec6g337</code>"
            ]
          },
          "metadata": {}
        },
        {
          "output_type": "display_data",
          "data": {
            "text/plain": [
              "<IPython.core.display.HTML object>"
            ],
            "text/html": [
              "Syncing run <strong><a href='https://wandb.ai/pbeles-ironhack/huggingface/runs/cec6g337' target=\"_blank\">./results</a></strong> to <a href='https://wandb.ai/pbeles-ironhack/huggingface' target=\"_blank\">Weights & Biases</a> (<a href='https://wandb.me/developer-guide' target=\"_blank\">docs</a>)<br/>"
            ]
          },
          "metadata": {}
        },
        {
          "output_type": "display_data",
          "data": {
            "text/plain": [
              "<IPython.core.display.HTML object>"
            ],
            "text/html": [
              " View project at <a href='https://wandb.ai/pbeles-ironhack/huggingface' target=\"_blank\">https://wandb.ai/pbeles-ironhack/huggingface</a>"
            ]
          },
          "metadata": {}
        },
        {
          "output_type": "display_data",
          "data": {
            "text/plain": [
              "<IPython.core.display.HTML object>"
            ],
            "text/html": [
              " View run at <a href='https://wandb.ai/pbeles-ironhack/huggingface/runs/cec6g337' target=\"_blank\">https://wandb.ai/pbeles-ironhack/huggingface/runs/cec6g337</a>"
            ]
          },
          "metadata": {}
        },
        {
          "output_type": "display_data",
          "data": {
            "text/plain": [
              "<IPython.core.display.HTML object>"
            ],
            "text/html": [
              "\n",
              "    <div>\n",
              "      \n",
              "      <progress value='1450' max='1450' style='width:300px; height:20px; vertical-align: middle;'></progress>\n",
              "      [1450/1450 03:26, Epoch 5/5]\n",
              "    </div>\n",
              "    <table border=\"1\" class=\"dataframe\">\n",
              "  <thead>\n",
              " <tr style=\"text-align: left;\">\n",
              "      <th>Epoch</th>\n",
              "      <th>Training Loss</th>\n",
              "      <th>Validation Loss</th>\n",
              "      <th>Accuracy</th>\n",
              "      <th>Precision</th>\n",
              "      <th>Recall</th>\n",
              "      <th>F1</th>\n",
              "    </tr>\n",
              "  </thead>\n",
              "  <tbody>\n",
              "    <tr>\n",
              "      <td>1</td>\n",
              "      <td>0.546800</td>\n",
              "      <td>0.551781</td>\n",
              "      <td>0.792062</td>\n",
              "      <td>0.796173</td>\n",
              "      <td>0.792062</td>\n",
              "      <td>0.793422</td>\n",
              "    </tr>\n",
              "    <tr>\n",
              "      <td>2</td>\n",
              "      <td>0.512200</td>\n",
              "      <td>0.366515</td>\n",
              "      <td>0.895600</td>\n",
              "      <td>0.902414</td>\n",
              "      <td>0.895600</td>\n",
              "      <td>0.895894</td>\n",
              "    </tr>\n",
              "    <tr>\n",
              "      <td>3</td>\n",
              "      <td>0.191500</td>\n",
              "      <td>0.268009</td>\n",
              "      <td>0.928387</td>\n",
              "      <td>0.928793</td>\n",
              "      <td>0.928387</td>\n",
              "      <td>0.928107</td>\n",
              "    </tr>\n",
              "    <tr>\n",
              "      <td>4</td>\n",
              "      <td>0.152500</td>\n",
              "      <td>0.285150</td>\n",
              "      <td>0.944780</td>\n",
              "      <td>0.944957</td>\n",
              "      <td>0.944780</td>\n",
              "      <td>0.944542</td>\n",
              "    </tr>\n",
              "    <tr>\n",
              "      <td>5</td>\n",
              "      <td>0.075800</td>\n",
              "      <td>0.290534</td>\n",
              "      <td>0.946506</td>\n",
              "      <td>0.946679</td>\n",
              "      <td>0.946506</td>\n",
              "      <td>0.946210</td>\n",
              "    </tr>\n",
              "  </tbody>\n",
              "</table><p>"
            ]
          },
          "metadata": {}
        },
        {
          "output_type": "stream",
          "name": "stdout",
          "text": [
            "Training mBERT...\n"
          ]
        },
        {
          "output_type": "display_data",
          "data": {
            "text/plain": [
              "<IPython.core.display.HTML object>"
            ],
            "text/html": [
              "\n",
              "    <div>\n",
              "      \n",
              "      <progress value='1450' max='1450' style='width:300px; height:20px; vertical-align: middle;'></progress>\n",
              "      [1450/1450 02:56, Epoch 5/5]\n",
              "    </div>\n",
              "    <table border=\"1\" class=\"dataframe\">\n",
              "  <thead>\n",
              " <tr style=\"text-align: left;\">\n",
              "      <th>Epoch</th>\n",
              "      <th>Training Loss</th>\n",
              "      <th>Validation Loss</th>\n",
              "      <th>Accuracy</th>\n",
              "      <th>Precision</th>\n",
              "      <th>Recall</th>\n",
              "      <th>F1</th>\n",
              "    </tr>\n",
              "  </thead>\n",
              "  <tbody>\n",
              "    <tr>\n",
              "      <td>1</td>\n",
              "      <td>0.514400</td>\n",
              "      <td>0.551855</td>\n",
              "      <td>0.811044</td>\n",
              "      <td>0.839145</td>\n",
              "      <td>0.811044</td>\n",
              "      <td>0.812666</td>\n",
              "    </tr>\n",
              "    <tr>\n",
              "      <td>2</td>\n",
              "      <td>0.215000</td>\n",
              "      <td>0.286962</td>\n",
              "      <td>0.917170</td>\n",
              "      <td>0.920237</td>\n",
              "      <td>0.917170</td>\n",
              "      <td>0.916665</td>\n",
              "    </tr>\n",
              "    <tr>\n",
              "      <td>3</td>\n",
              "      <td>0.097400</td>\n",
              "      <td>0.261944</td>\n",
              "      <td>0.942192</td>\n",
              "      <td>0.944474</td>\n",
              "      <td>0.942192</td>\n",
              "      <td>0.941686</td>\n",
              "    </tr>\n",
              "    <tr>\n",
              "      <td>4</td>\n",
              "      <td>0.030500</td>\n",
              "      <td>0.254015</td>\n",
              "      <td>0.950820</td>\n",
              "      <td>0.951448</td>\n",
              "      <td>0.950820</td>\n",
              "      <td>0.950359</td>\n",
              "    </tr>\n",
              "    <tr>\n",
              "      <td>5</td>\n",
              "      <td>0.080200</td>\n",
              "      <td>0.263680</td>\n",
              "      <td>0.950820</td>\n",
              "      <td>0.951677</td>\n",
              "      <td>0.950820</td>\n",
              "      <td>0.950498</td>\n",
              "    </tr>\n",
              "  </tbody>\n",
              "</table><p>"
            ]
          },
          "metadata": {}
        },
        {
          "output_type": "stream",
          "name": "stdout",
          "text": [
            "Evaluating XLM-RoBERTa...\n"
          ]
        },
        {
          "output_type": "display_data",
          "data": {
            "text/plain": [
              "<IPython.core.display.HTML object>"
            ],
            "text/html": []
          },
          "metadata": {}
        },
        {
          "output_type": "stream",
          "name": "stdout",
          "text": [
            "XLM-RoBERTa Confusion Matrix:\n",
            "[[364   6  16]\n",
            " [  3 382   1]\n",
            " [ 19  17 351]]\n",
            "Evaluating mBERT...\n"
          ]
        },
        {
          "output_type": "display_data",
          "data": {
            "text/plain": [
              "<IPython.core.display.HTML object>"
            ],
            "text/html": []
          },
          "metadata": {}
        },
        {
          "output_type": "stream",
          "name": "stdout",
          "text": [
            "mBERT Confusion Matrix:\n",
            "[[371   6   9]\n",
            " [  3 383   0]\n",
            " [ 24  15 348]]\n",
            "Generating predictions for ensemble...\n"
          ]
        },
        {
          "output_type": "display_data",
          "data": {
            "text/plain": [
              "<Figure size 2000x600 with 6 Axes>"
            ],
            "image/png": "[encoded data removed]"
          },
          "metadata": {}
        },
        {
          "output_type": "stream",
          "name": "stdout",
          "text": [
            "XLM-RoBERTa F1 Score: 0.9462099962509423\n",
            "mBERT F1 Score: 0.9504979330090282\n",
            "Ensemble F1 Score: 0.9462099962509423\n"
          ]
        },
        {
          "output_type": "execute_result",
          "data": {
            "text/plain": [
              "('./mbert-sentiment/tokenizer_config.json',\n",
              " './mbert-sentiment/special_tokens_map.json',\n",
              " './mbert-sentiment/vocab.txt',\n",
              " './mbert-sentiment/added_tokens.json',\n",
              " './mbert-sentiment/tokenizer.json')"
            ]
          },
          "metadata": {},
          "execution_count": 2
        }
      ]
    },
    {
      "cell_type": "code",
      "source": [],
      "metadata": {
        "id": "RP9froRqX_fV"
      },
      "execution_count": null,
      "outputs": []
    },
    {
      "cell_type": "code",
      "source": [],
      "metadata": {
        "id": "u4mAG9P7X_ja"
      },
      "execution_count": null,
      "outputs": []
    },
    {
      "cell_type": "code",
      "source": [],
      "metadata": {
        "id": "vgUjSBHIX_rj"
      },
      "execution_count": null,
      "outputs": []
    },
    {
      "cell_type": "code",
      "source": [],
      "metadata": {
        "id": "BI67iq52YDra"
      },
      "execution_count": null,
      "outputs": []
    }
  ]
}